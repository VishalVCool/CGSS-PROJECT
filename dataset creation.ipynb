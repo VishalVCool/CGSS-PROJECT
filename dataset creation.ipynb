{
 "cells": [
  {
   "cell_type": "code",
   "execution_count": 1,
   "id": "661cdda2",
   "metadata": {},
   "outputs": [],
   "source": [
    "import os\n",
    "import random\n",
    "import numpy as np\n",
    "from shutil import copyfile"
   ]
  },
  {
   "cell_type": "code",
   "execution_count": 2,
   "id": "826fd5dc",
   "metadata": {},
   "outputs": [],
   "source": [
    "BOSSBASE_COVER_DIR = '/Users/vishalbhatia/Documents/MSc. Data Science and AI/PROJECTS/stego/DATASET/BOSS/cover'\n",
    "BOSSBASE_STEGO_DIR = '/Users/vishalbhatia/Documents/MSc. Data Science and AI/PROJECTS/stego/DATASET/BOSS/stego'\n",
    "BOWS_COVER_DIR = '/Users/vishalbhatia/Documents/MSc. Data Science and AI/PROJECTS/stego/DATASET/BOWS/cover'\n",
    "BOWS_STEGO_DIR = '/Users/vishalbhatia/Documents/MSc. Data Science and AI/PROJECTS/stego/DATASET/BOWS/stego'\n",
    "\n",
    "OUTPUT_DIR = '/Users/vishalbhatia/Documents/MSc. Data Science and AI/PROJECTS/stego/DATASET/SRNet-Dataset-0.4'\n",
    "\n",
    "SEED = 1\n",
    "random.seed(SEED)\n",
    "np.random.seed(SEED)"
   ]
  },
  {
   "cell_type": "markdown",
   "id": "21367536",
   "metadata": {},
   "source": [
    "## Selection of the images"
   ]
  },
  {
   "cell_type": "markdown",
   "id": "93a950df",
   "metadata": {},
   "source": [
    "### Train set"
   ]
  },
  {
   "cell_type": "code",
   "execution_count": 5,
   "id": "35134f13",
   "metadata": {},
   "outputs": [],
   "source": [
    "boss_train_set = [] \n",
    "bows_train_set = []"
   ]
  },
  {
   "cell_type": "markdown",
   "id": "eeda9fa2",
   "metadata": {},
   "source": [
    "#### 4.000 pairs from BOSSBase"
   ]
  },
  {
   "cell_type": "code",
   "execution_count": 6,
   "id": "b1705fdd",
   "metadata": {},
   "outputs": [],
   "source": [
    "cover_bossbase_filenames = os.listdir(BOSSBASE_COVER_DIR)\n",
    "\n",
    "random_4000_boss_filenames = list(np.random.choice(cover_bossbase_filenames, size=4000, replace=False))\n",
    "boss_train_set.extend(random_4000_boss_filenames)"
   ]
  },
  {
   "cell_type": "code",
   "execution_count": 7,
   "id": "5ec18781",
   "metadata": {},
   "outputs": [
    {
     "data": {
      "text/plain": [
       "6000"
      ]
     },
     "execution_count": 7,
     "metadata": {},
     "output_type": "execute_result"
    }
   ],
   "source": [
    "# Remove the selected images\n",
    "cover_bossbase_filenames = list(set(cover_bossbase_filenames) - set(random_4000_boss_filenames))\n",
    "len(cover_bossbase_filenames)"
   ]
  },
  {
   "cell_type": "markdown",
   "id": "e7881d52",
   "metadata": {},
   "source": [
    "#### The whole BOWS dataset"
   ]
  },
  {
   "cell_type": "code",
   "execution_count": 8,
   "id": "90b24786",
   "metadata": {},
   "outputs": [
    {
     "data": {
      "text/plain": [
       "10000"
      ]
     },
     "execution_count": 8,
     "metadata": {},
     "output_type": "execute_result"
    }
   ],
   "source": [
    "cover_bows_filenames = os.listdir(BOWS_COVER_DIR)\n",
    "\n",
    "bows_train_set.extend(cover_bows_filenames)\n",
    "len(bows_train_set)"
   ]
  },
  {
   "cell_type": "markdown",
   "id": "a9c1a4e7",
   "metadata": {},
   "source": [
    "### Validation"
   ]
  },
  {
   "cell_type": "code",
   "execution_count": 10,
   "id": "9a80464b",
   "metadata": {},
   "outputs": [
    {
     "data": {
      "text/plain": [
       "5000"
      ]
     },
     "execution_count": 10,
     "metadata": {},
     "output_type": "execute_result"
    }
   ],
   "source": [
    "# 1.000 images for validation\n",
    "boss_val_set = list(np.random.choice(cover_bossbase_filenames, size=1000, replace=False))\n",
    "\n",
    "# Remove the 1.000 images from validation\n",
    "cover_bossbase_filenames = list(set(cover_bossbase_filenames) - set(boss_val_set))\n",
    "len(cover_bossbase_filenames)"
   ]
  },
  {
   "cell_type": "markdown",
   "id": "59644988",
   "metadata": {},
   "source": [
    "### Test"
   ]
  },
  {
   "cell_type": "code",
   "execution_count": 12,
   "id": "77f5638b",
   "metadata": {},
   "outputs": [
    {
     "data": {
      "text/plain": [
       "5000"
      ]
     },
     "execution_count": 12,
     "metadata": {},
     "output_type": "execute_result"
    }
   ],
   "source": [
    "boss_test_set = cover_bossbase_filenames\n",
    "len(boss_test_set)"
   ]
  },
  {
   "cell_type": "code",
   "execution_count": 13,
   "id": "58fed0dc",
   "metadata": {},
   "outputs": [],
   "source": [
    "assert set(boss_test_set) & set(boss_val_set) & set(boss_train_set) == set()\n",
    "assert set(boss_test_set) & set(boss_val_set) == set()\n",
    "assert set(boss_test_set) & set(boss_train_set) == set()\n",
    "assert set(boss_val_set) & set(boss_train_set) == set()"
   ]
  },
  {
   "cell_type": "markdown",
   "id": "e5425421",
   "metadata": {},
   "source": [
    "## Saving the images"
   ]
  },
  {
   "cell_type": "code",
   "execution_count": 14,
   "id": "7d280cc1",
   "metadata": {},
   "outputs": [],
   "source": [
    "# Generate the folders necessary to train and test.\n",
    "assert not os.path.isdir(OUTPUT_DIR)\n",
    "os.mkdir(OUTPUT_DIR)\n",
    "\n",
    "sets = ['train', 'val', 'test']\n",
    "for set_name in sets:\n",
    "    os.mkdir(os.path.join(OUTPUT_DIR, set_name))\n",
    "    os.mkdir(os.path.join(OUTPUT_DIR, set_name, '0'))\n",
    "    os.mkdir(os.path.join(OUTPUT_DIR, set_name, '1'))"
   ]
  },
  {
   "cell_type": "code",
   "execution_count": 15,
   "id": "e2bda76b",
   "metadata": {},
   "outputs": [],
   "source": [
    "# Copy the images into their respective folders\n",
    "def copy_images_stego_cover_repetition_in_set(filenames, set_name, cover_dir, stego_dir):\n",
    "    \n",
    "    # Copy all the files into their respective folder\n",
    "    for image_name in filenames:\n",
    "        copyfile(os.path.join(cover_dir, image_name), \n",
    "                 os.path.join(OUTPUT_DIR, set_name, '0', image_name))\n",
    "        \n",
    "        copyfile(os.path.join(stego_dir, image_name), \n",
    "                 os.path.join(OUTPUT_DIR, set_name, '1', image_name))\n",
    "        \n",
    "copy_images_stego_cover_repetition_in_set(boss_train_set, 'train', BOSSBASE_COVER_DIR, BOSSBASE_STEGO_DIR)\n",
    "copy_images_stego_cover_repetition_in_set(bows_train_set, 'train', BOWS_COVER_DIR, BOWS_STEGO_DIR)\n",
    "\n",
    "copy_images_stego_cover_repetition_in_set(boss_val_set, 'val', BOSSBASE_COVER_DIR, BOSSBASE_STEGO_DIR)\n",
    "copy_images_stego_cover_repetition_in_set(boss_test_set, 'test', BOSSBASE_COVER_DIR, BOSSBASE_STEGO_DIR)"
   ]
  },
  {
   "cell_type": "code",
   "execution_count": null,
   "id": "9f4db727",
   "metadata": {},
   "outputs": [],
   "source": []
  }
 ],
 "metadata": {
  "kernelspec": {
   "display_name": "Python 3 (ipykernel)",
   "language": "python",
   "name": "python3"
  },
  "language_info": {
   "codemirror_mode": {
    "name": "ipython",
    "version": 3
   },
   "file_extension": ".py",
   "mimetype": "text/x-python",
   "name": "python",
   "nbconvert_exporter": "python",
   "pygments_lexer": "ipython3",
   "version": "3.11.0"
  }
 },
 "nbformat": 4,
 "nbformat_minor": 5
}
